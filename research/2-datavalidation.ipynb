{
 "cells": [
  {
   "cell_type": "code",
   "execution_count": 2,
   "id": "79fbae1c",
   "metadata": {},
   "outputs": [
    {
     "data": {
      "text/plain": [
       "'/home/mrafi/Desktop/Books/Bootcamp/E2EMLOps/18-e2e/MLops_Ds1/research'"
      ]
     },
     "execution_count": 2,
     "metadata": {},
     "output_type": "execute_result"
    }
   ],
   "source": [
    "import os \n",
    "%pwd"
   ]
  },
  {
   "cell_type": "code",
   "execution_count": 3,
   "id": "c4ed2f69",
   "metadata": {},
   "outputs": [],
   "source": [
    "os.chdir(\"../\")"
   ]
  },
  {
   "cell_type": "code",
   "execution_count": 4,
   "id": "6e79b8cd",
   "metadata": {},
   "outputs": [
    {
     "data": {
      "text/plain": [
       "'/home/mrafi/Desktop/Books/Bootcamp/E2EMLOps/18-e2e/MLops_Ds1'"
      ]
     },
     "execution_count": 4,
     "metadata": {},
     "output_type": "execute_result"
    }
   ],
   "source": [
    "%pwd"
   ]
  },
  {
   "cell_type": "code",
   "execution_count": 5,
   "id": "23df0f8a",
   "metadata": {},
   "outputs": [],
   "source": [
    "import pandas as pd\n",
    "\n",
    "data = pd.read_csv(\"artifacts/data_ingestion/winequality-red.csv\", sep=\";\")"
   ]
  },
  {
   "cell_type": "code",
   "execution_count": 6,
   "id": "8c96779e",
   "metadata": {},
   "outputs": [
    {
     "name": "stdout",
     "output_type": "stream",
     "text": [
      "<class 'pandas.core.frame.DataFrame'>\n",
      "RangeIndex: 1599 entries, 0 to 1598\n",
      "Data columns (total 12 columns):\n",
      " #   Column                Non-Null Count  Dtype  \n",
      "---  ------                --------------  -----  \n",
      " 0   fixed acidity         1599 non-null   float64\n",
      " 1   volatile acidity      1599 non-null   float64\n",
      " 2   citric acid           1599 non-null   float64\n",
      " 3   residual sugar        1599 non-null   float64\n",
      " 4   chlorides             1599 non-null   float64\n",
      " 5   free sulfur dioxide   1599 non-null   float64\n",
      " 6   total sulfur dioxide  1599 non-null   float64\n",
      " 7   density               1599 non-null   float64\n",
      " 8   pH                    1599 non-null   float64\n",
      " 9   sulphates             1599 non-null   float64\n",
      " 10  alcohol               1599 non-null   float64\n",
      " 11  quality               1599 non-null   int64  \n",
      "dtypes: float64(11), int64(1)\n",
      "memory usage: 150.0 KB\n"
     ]
    }
   ],
   "source": [
    "data.info()"
   ]
  },
  {
   "cell_type": "code",
   "execution_count": 7,
   "id": "3dbd03a9",
   "metadata": {},
   "outputs": [
    {
     "data": {
      "text/plain": [
       "fixed acidity           0\n",
       "volatile acidity        0\n",
       "citric acid             0\n",
       "residual sugar          0\n",
       "chlorides               0\n",
       "free sulfur dioxide     0\n",
       "total sulfur dioxide    0\n",
       "density                 0\n",
       "pH                      0\n",
       "sulphates               0\n",
       "alcohol                 0\n",
       "quality                 0\n",
       "dtype: int64"
      ]
     },
     "execution_count": 7,
     "metadata": {},
     "output_type": "execute_result"
    }
   ],
   "source": [
    "data.isnull().sum()"
   ]
  },
  {
   "cell_type": "code",
   "execution_count": 8,
   "id": "9ec4dbd5",
   "metadata": {},
   "outputs": [
    {
     "data": {
      "text/plain": [
       "dtype('float64')"
      ]
     },
     "execution_count": 8,
     "metadata": {},
     "output_type": "execute_result"
    }
   ],
   "source": [
    "data.dtypes.to_dict()['fixed acidity']"
   ]
  },
  {
   "cell_type": "code",
   "execution_count": 9,
   "id": "5c3422b5",
   "metadata": {},
   "outputs": [],
   "source": [
    "dtps = data.dtypes.to_dict()\n",
    "dtps = {k:str(v) for k,v in data.dtypes.to_dict().items()}"
   ]
  },
  {
   "cell_type": "code",
   "execution_count": 10,
   "id": "fa2754d0",
   "metadata": {},
   "outputs": [
    {
     "data": {
      "text/plain": [
       "{'fixed acidity': 'float64',\n",
       " 'volatile acidity': 'float64',\n",
       " 'citric acid': 'float64',\n",
       " 'residual sugar': 'float64',\n",
       " 'chlorides': 'float64',\n",
       " 'free sulfur dioxide': 'float64',\n",
       " 'total sulfur dioxide': 'float64',\n",
       " 'density': 'float64',\n",
       " 'pH': 'float64',\n",
       " 'sulphates': 'float64',\n",
       " 'alcohol': 'float64',\n",
       " 'quality': 'int64'}"
      ]
     },
     "execution_count": 10,
     "metadata": {},
     "output_type": "execute_result"
    }
   ],
   "source": [
    "dtps"
   ]
  },
  {
   "cell_type": "code",
   "execution_count": 14,
   "id": "256dafdd",
   "metadata": {},
   "outputs": [],
   "source": [
    "from dataclasses import dataclass\n",
    "from pathlib import Path\n",
    "\n",
    "@dataclass\n",
    "class DataIngestionConfig:\n",
    "  root_dir: Path\n",
    "  source_URL: str\n",
    "  local_data_file: Path\n",
    "  unzip_dir: Path"
   ]
  },
  {
   "cell_type": "code",
   "execution_count": 12,
   "id": "d6365541",
   "metadata": {},
   "outputs": [],
   "source": [
    "from dataclasses import dataclass\n",
    "from pathlib import Path\n",
    "\n",
    "@dataclass\n",
    "class DataValidationConfig:\n",
    "  root_dir: Path\n",
    "  STATUS_FILE: Path\n",
    "  unzip_data_dir: Path\n",
    "  all_schema: dict"
   ]
  },
  {
   "cell_type": "code",
   "execution_count": 15,
   "id": "8d3da9dc",
   "metadata": {},
   "outputs": [],
   "source": [
    "from src.data_science.constants import CONFIG_FILE_PATH, SCHEMA_FILE_PATH, PARAMS_FILE_PATH\n",
    "from src.data_science.utils.common import read_yaml, create_dir\n",
    "class ConfigurationManager:\n",
    "    def __init__(self, config_filepath=CONFIG_FILE_PATH, schema_file_path= SCHEMA_FILE_PATH, params_file_path=PARAMS_FILE_PATH ):\n",
    "        \n",
    "        self.config = read_yaml(config_filepath)\n",
    "        self.params = read_yaml(params_file_path)\n",
    "        self.schema = read_yaml(schema_file_path)\n",
    "        \n",
    "        create_dir([self.config.artifacts_toot])\n",
    "        \n",
    "    def get_dataingestion_config(self)-> DataIngestionConfig:\n",
    "        config = self.config.data_ingestion\n",
    "        create_dir([config.root_dir])\n",
    "        data_ingestion_config = DataIngestionConfig(\n",
    "              root_dir= config.root_dir,\n",
    "              source_URL=config.source_URL,\n",
    "              local_data_file=config.local_data_file ,\n",
    "              unzip_dir=config.unzip_dir\n",
    "        )\n",
    "        return data_ingestion_config\n",
    "    def get_datavalidation_config(self)-> DataValidationConfig:\n",
    "        config = self.config.data_validation\n",
    "        schema = self.schema.COLUMNS\n",
    "        create_dir([config.root_dir])\n",
    "        data_validation_config = DataValidationConfig(\n",
    "              root_dir= config.root_dir,\n",
    "              STATUS_FILE=config.STATUS_FILE,\n",
    "              unzip_data_dir=config.unzip_data_dir ,\n",
    "              all_schema=schema\n",
    "        )\n",
    "        return data_validation_config"
   ]
  },
  {
   "cell_type": "code",
   "execution_count": 16,
   "id": "20f5439d",
   "metadata": {},
   "outputs": [],
   "source": [
    "from urllib import request\n",
    "from src.data_science import logger\n",
    "import zipfile\n",
    "import pandas as pd\n",
    "class DataValidation:\n",
    "    def __init__(self, config: DataValidationConfig):\n",
    "        self.config = config\n",
    "    \n",
    "    def validate_all_columns(self):\n",
    "        try:\n",
    "            validation_status = None\n",
    "            data = pd.read_csv(self.config.unzip_data_dir, sep=\";\")\n",
    "            all_cols = list(data.columns)\n",
    "            all_types = {k:str(v) for k,v in data.dtypes.to_dict().items()}\n",
    "            all_schema = self.config.all_schema\n",
    "            for col,type in all_schema.items():\n",
    "                if (col not in all_cols) or type != all_types[col]  :\n",
    "                    validation_status = False\n",
    "                    logger.info(f\"Missing column {col} in input file or column type mismatch\")\n",
    "                    with open(self.config.STATUS_FILE, \"w+\") as f:\n",
    "                        f.write(f\" Issue with {col} in input data, setting Validation Status:{validation_status}\")\n",
    "                    break\n",
    "            else:\n",
    "                validation_status = True\n",
    "                with open(self.config.STATUS_FILE, \"w+\") as f:\n",
    "                    f.write(f\"Validation Sucessful. Validation Status:{validation_status}\")\n",
    "                    logger.info(f\"Input file passed validation\")\n",
    "        except Exception as e:\n",
    "            raise e\n",
    "    "
   ]
  },
  {
   "cell_type": "code",
   "execution_count": 17,
   "id": "ead6eed0",
   "metadata": {},
   "outputs": [
    {
     "name": "stdout",
     "output_type": "stream",
     "text": [
      "[2025-05-03 07:25:47,187: INFO: common: config/config.yaml file loaded sucessfully]\n",
      "[2025-05-03 07:25:47,189: INFO: common: params.yaml file loaded sucessfully]\n",
      "[2025-05-03 07:25:47,192: INFO: common: schema.yaml file loaded sucessfully]\n",
      "[2025-05-03 07:25:47,193: INFO: common: Directory artifacts created]\n",
      "[2025-05-03 07:25:47,194: INFO: common: Directory artifacts/data_validation created]\n",
      "[2025-05-03 07:25:47,200: INFO: 3693007339: Input file passed validation]\n"
     ]
    }
   ],
   "source": [
    "try:\n",
    "    config = ConfigurationManager()\n",
    "    data_validation_config = config.get_datavalidation_config()\n",
    "    data_validation = DataValidation(data_validation_config)\n",
    "    data_validation.validate_all_columns()\n",
    "except Exception as e:\n",
    "    raise e \n"
   ]
  }
 ],
 "metadata": {
  "kernelspec": {
   "display_name": "Python 3",
   "language": "python",
   "name": "python3"
  },
  "language_info": {
   "codemirror_mode": {
    "name": "ipython",
    "version": 3
   },
   "file_extension": ".py",
   "mimetype": "text/x-python",
   "name": "python",
   "nbconvert_exporter": "python",
   "pygments_lexer": "ipython3",
   "version": "3.10.16"
  }
 },
 "nbformat": 4,
 "nbformat_minor": 5
}
