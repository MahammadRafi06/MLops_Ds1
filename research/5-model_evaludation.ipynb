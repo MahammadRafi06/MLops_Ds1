{
 "cells": [
  {
   "cell_type": "code",
   "execution_count": 2,
   "id": "29edc93e",
   "metadata": {},
   "outputs": [],
   "source": [
    "import os\n",
    "os.environ[\"MLFLOW_TRACHING_URI\"] = \"https://dagshub.com/MahammadRafi06/MLops_Ds1.mlflow\"\n",
    "os.environ[\"MLFLOW_TRACKING_USERNAME\"] = \"MahammadRafi06\"\n",
    "os.environ[\"MLFLOW_TRACKING_PASSWORD\"] = \"5997c2edac04d59b6f2da7e2a0b700721ebe7cf4\""
   ]
  },
  {
   "cell_type": "code",
   "execution_count": 3,
   "id": "8515eae6",
   "metadata": {},
   "outputs": [
    {
     "data": {
      "text/plain": [
       "'/home/mrafi/Desktop/Books/Bootcamp/E2EMLOps/18-e2e/MLops_Ds1/research'"
      ]
     },
     "execution_count": 3,
     "metadata": {},
     "output_type": "execute_result"
    }
   ],
   "source": [
    "%pwd"
   ]
  },
  {
   "cell_type": "code",
   "execution_count": 4,
   "id": "7b11f2e1",
   "metadata": {},
   "outputs": [
    {
     "data": {
      "text/plain": [
       "'/home/mrafi/Desktop/Books/Bootcamp/E2EMLOps/18-e2e/MLops_Ds1'"
      ]
     },
     "execution_count": 4,
     "metadata": {},
     "output_type": "execute_result"
    }
   ],
   "source": [
    "os.chdir(\"../\")\n",
    "%pwd"
   ]
  },
  {
   "cell_type": "code",
   "execution_count": 11,
   "id": "a3a56e77",
   "metadata": {},
   "outputs": [],
   "source": [
    "from dataclasses import dataclass\n",
    "from pathlib import Path\n",
    "@dataclass\n",
    "class ModelEvaluationConfig:\n",
    "    root_dir:  Path\n",
    "    test_data_path: Path\n",
    "    model_path: Path\n",
    "    metric_file_name: Path\n",
    "    all_params: dict\n",
    "    mlflow_uri: str\n",
    "    target_column: str\n",
    "    "
   ]
  },
  {
   "cell_type": "code",
   "execution_count": null,
   "id": "52e05586",
   "metadata": {},
   "outputs": [],
   "source": [
    "from src.data_science.constants import CONFIG_FILE_PATH, SCHEMA_FILE_PATH, PARAMS_FILE_PATH\n",
    "from src.data_science.utils.common import read_yaml, create_dir, save_json\n",
    "class ConfigurationManager:\n",
    "    def __init__(self, config_filepath=CONFIG_FILE_PATH, schema_file_path= SCHEMA_FILE_PATH, params_file_path=PARAMS_FILE_PATH ):\n",
    "        \n",
    "        self.config = read_yaml(config_filepath)\n",
    "        self.params = read_yaml(params_file_path)\n",
    "        self.schema = read_yaml(schema_file_path)\n",
    "        \n",
    "        create_dir([self.config.artifacts_root])\n",
    "    \n",
    "    def get_modelevaludation_config(self) -> ModelEvaluationConfig:\n",
    "        config = self.config.model_evaluation\n",
    "        schema = self.schema.TARGET_COLUMN\n",
    "        params = self.params.ElasticNet\n",
    "        create_dir([config.root_dir])\n",
    "        modelevaluation_config = ModelEvaluationConfig(\n",
    "                root_dir= config.root_dir,\n",
    "                test_data_path = config.test_data_path,\n",
    "                model_path = config.model_path,\n",
    "                metric_file_name = config.metric_file_name,\n",
    "                all_params = params,\n",
    "                mlflow_uri = os.getenv(\"MLFLOW_TRACHING_URI\"),\n",
    "                target_column = schema\n",
    "        )\n",
    "        return modelevaluation_config\n",
    "        "
   ]
  },
  {
   "cell_type": "code",
   "execution_count": 23,
   "id": "5195da91",
   "metadata": {},
   "outputs": [],
   "source": [
    "import os\n",
    "import pandas as pd\n",
    "from sklearn.metrics import mean_absolute_error, mean_squared_error, r2_score\n",
    "from urllib.parse import urlparse\n",
    "import mlflow\n",
    "import mlflow.sklearn\n",
    "import numpy as np\n",
    "import joblib"
   ]
  },
  {
   "cell_type": "code",
   "execution_count": 32,
   "id": "26dd7e02",
   "metadata": {},
   "outputs": [],
   "source": [
    "\n",
    "class ModelEvaluation:\n",
    "    def __init__(self, config: ModelEvaluationConfig):\n",
    "        self.config = config\n",
    "    \n",
    "    def evalauation_metric(self, actual, pred):\n",
    "        rmse = np.sqrt(mean_squared_error(actual, pred))\n",
    "        mae = mean_absolute_error(actual, pred)\n",
    "        r2 = r2_score(actual, pred)\n",
    "        return rmse, mae, r2\n",
    "    \n",
    "    \n",
    "    def model_evaluation(self):\n",
    "        test_data = pd.read_csv(self.config.test_data_path)\n",
    "        model = joblib.load(self.config.model_path)\n",
    "        test_x = test_data.drop(columns=[self.config.target_column.name], axis=1)\n",
    "        test_y = test_data[self.config.target_column.name]\n",
    "        \n",
    "        mlflow.set_tracking_uri(self.config.mlflow_uri)\n",
    "        tracking_url_type_store = urlparse(mlflow.get_tracking_uri()).scheme\n",
    "        \n",
    "        with mlflow.start_run():\n",
    "            predicted_qualities = model.predict(test_x)\n",
    "            rmse, mae, r2 = self.evalauation_metric(test_y, predicted_qualities)\n",
    "            \n",
    "            scores = {\"rmse\":rmse, \"mae\":mae, \"r2\":r2}\n",
    "            \n",
    "            save_json(path=Path(self.config.metric_file_name), data=scores)\n",
    "            mlflow.log_params(self.config.all_params)\n",
    "            mlflow.log_metric(\"rmse\",rmse)\n",
    "            mlflow.log_metric(\"mae\",mae)\n",
    "            mlflow.log_metric(\"r2\",r2)\n",
    "            \n",
    "            tracking_uri_type_store = urlparse(mlflow.get_tracking_uri()).scheme\n",
    "            \n",
    "            if tracking_uri_type_store != \"file\":\n",
    "                mlflow.sklearn.log_model(model, \"model1\", registered_model_name=\"Best ElaticNet\", input_example=test_x)\n",
    "            else:\n",
    "                mlflow.sklearn.log_model(model, \"model1\")\n",
    "        \n"
   ]
  },
  {
   "cell_type": "code",
   "execution_count": 33,
   "id": "126f02a4",
   "metadata": {},
   "outputs": [
    {
     "name": "stderr",
     "output_type": "stream",
     "text": [
      "2025-05-03 21:12:25,638, common.py, 19, INFO, config/config.yaml file loaded sucessfully\n",
      "INFO:data_science:config/config.yaml file loaded sucessfully\n",
      "2025-05-03 21:12:25,640, common.py, 19, INFO, params.yaml file loaded sucessfully\n",
      "INFO:data_science:params.yaml file loaded sucessfully\n",
      "2025-05-03 21:12:25,643, common.py, 19, INFO, schema.yaml file loaded sucessfully\n",
      "INFO:data_science:schema.yaml file loaded sucessfully\n",
      "2025-05-03 21:12:25,644, common.py, 32, INFO, Directory artifacts created\n",
      "INFO:data_science:Directory artifacts created\n",
      "2025-05-03 21:12:25,645, common.py, 32, INFO, Directory artifacts/model_evaluation created\n",
      "INFO:data_science:Directory artifacts/model_evaluation created\n",
      "2025-05-03 21:12:25,817, common.py, 38, INFO, data saved to artifacts/model_evaluation/metric.json\n",
      "INFO:data_science:data saved to artifacts/model_evaluation/metric.json\n",
      "Registered model 'Best ElaticNet' already exists. Creating a new version of this model...\n",
      "2025/05/03 21:12:36 INFO mlflow.store.model_registry.abstract_store: Waiting up to 300 seconds for model version to finish creation. Model name: Best ElaticNet, version 3\n",
      "Created version '3' of model 'Best ElaticNet'.\n"
     ]
    },
    {
     "name": "stdout",
     "output_type": "stream",
     "text": [
      "🏃 View run likeable-ant-731 at: https://dagshub.com/MahammadRafi06/MLops_Ds1.mlflow/#/experiments/0/runs/94cad6173eff455f8a11b8769529f023\n",
      "🧪 View experiment at: https://dagshub.com/MahammadRafi06/MLops_Ds1.mlflow/#/experiments/0\n"
     ]
    }
   ],
   "source": [
    "try:\n",
    "    config = ConfigurationManager()\n",
    "    model_evaluation_config = config.get_modelevaludation_config()\n",
    "    data_transofrmation = ModelEvaluation(model_evaluation_config)\n",
    "    data_transofrmation.model_evaluation()\n",
    "except Exception as e:\n",
    "    raise e "
   ]
  },
  {
   "cell_type": "code",
   "execution_count": 5,
   "id": "2cc6889a",
   "metadata": {},
   "outputs": [],
   "source": [
    "from src.data_science.utils.common import load_envfile\n",
    "from pathlib import Path\n",
    "import os\n",
    "path= Path(os.path.join('/home/mrafi/Desktop/Books/Bootcamp/E2EMLOps/18-e2e/MLops_Ds1', \".env\"))\n",
    "envs = dict(load_envfile(path))"
   ]
  },
  {
   "cell_type": "code",
   "execution_count": 6,
   "id": "86b5b386",
   "metadata": {},
   "outputs": [
    {
     "data": {
      "text/plain": [
       "{'\"MLFLOW_TRACHING_URI\"': 'https://dagshub.com/MahammadRafi06/MLops_Ds1.mlflow',\n",
       " '\"MLFLOW_TRACKING_PASSWORD\"': '5997c2edac04d59b6f2da7e2a0b700721ebe7cf4',\n",
       " '\"MLFLOW_TRACKING_USERNAME\"': 'MahammadRafi06'}"
      ]
     },
     "execution_count": 6,
     "metadata": {},
     "output_type": "execute_result"
    }
   ],
   "source": [
    "envs"
   ]
  }
 ],
 "metadata": {
  "kernelspec": {
   "display_name": "Python 3",
   "language": "python",
   "name": "python3"
  },
  "language_info": {
   "codemirror_mode": {
    "name": "ipython",
    "version": 3
   },
   "file_extension": ".py",
   "mimetype": "text/x-python",
   "name": "python",
   "nbconvert_exporter": "python",
   "pygments_lexer": "ipython3",
   "version": "3.10.16"
  }
 },
 "nbformat": 4,
 "nbformat_minor": 5
}
