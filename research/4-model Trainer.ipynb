{
 "cells": [
  {
   "cell_type": "code",
   "execution_count": 1,
   "id": "79fbae1c",
   "metadata": {},
   "outputs": [
    {
     "data": {
      "text/plain": [
       "'/home/mrafi/Desktop/Books/Bootcamp/E2EMLOps/18-e2e/MLops_Ds1/research'"
      ]
     },
     "execution_count": 1,
     "metadata": {},
     "output_type": "execute_result"
    }
   ],
   "source": [
    "import os \n",
    "%pwd"
   ]
  },
  {
   "cell_type": "code",
   "execution_count": 2,
   "id": "c4ed2f69",
   "metadata": {},
   "outputs": [],
   "source": [
    "os.chdir(\"../\")"
   ]
  },
  {
   "cell_type": "code",
   "execution_count": 3,
   "id": "6e79b8cd",
   "metadata": {},
   "outputs": [
    {
     "data": {
      "text/plain": [
       "'/home/mrafi/Desktop/Books/Bootcamp/E2EMLOps/18-e2e/MLops_Ds1'"
      ]
     },
     "execution_count": 3,
     "metadata": {},
     "output_type": "execute_result"
    }
   ],
   "source": [
    "%pwd"
   ]
  },
  {
   "cell_type": "code",
   "execution_count": 4,
   "id": "256dafdd",
   "metadata": {},
   "outputs": [],
   "source": [
    "from dataclasses import dataclass\n",
    "from pathlib import Path\n",
    "\n",
    "@dataclass\n",
    "class DataIngestionConfig:\n",
    "  root_dir: Path\n",
    "  source_URL: str\n",
    "  local_data_file: Path\n",
    "  unzip_dir: Path"
   ]
  },
  {
   "cell_type": "code",
   "execution_count": 5,
   "id": "d6365541",
   "metadata": {},
   "outputs": [],
   "source": [
    "from dataclasses import dataclass\n",
    "from pathlib import Path\n",
    "\n",
    "@dataclass\n",
    "class DataValidationConfig:\n",
    "  root_dir: Path\n",
    "  STATUS_FILE: Path\n",
    "  unzip_data_dir: Path\n",
    "  all_schema: dict"
   ]
  },
  {
   "cell_type": "code",
   "execution_count": 6,
   "id": "2d420a32",
   "metadata": {},
   "outputs": [],
   "source": [
    "from dataclasses import dataclass\n",
    "from pathlib import Path\n",
    "\n",
    "@dataclass\n",
    "class DataTransformationConfig:\n",
    "  root_dir: Path\n",
    "  data_path: Path"
   ]
  },
  {
   "cell_type": "code",
   "execution_count": 7,
   "id": "37757a83",
   "metadata": {},
   "outputs": [],
   "source": [
    "from dataclasses import dataclass\n",
    "from pathlib import Path\n",
    "@dataclass\n",
    "class ModelTrainerConfig:\n",
    "  root_dir:  Path\n",
    "  train_data_path: Path\n",
    "  test_data_path: Path\n",
    "  model_name: str\n",
    "  alpha: float\n",
    "  l1_ratio: float\n",
    "  target_column: str"
   ]
  },
  {
   "cell_type": "code",
   "execution_count": 8,
   "id": "8d3da9dc",
   "metadata": {},
   "outputs": [],
   "source": [
    "from src.data_science.constants import CONFIG_FILE_PATH, SCHEMA_FILE_PATH, PARAMS_FILE_PATH\n",
    "from src.data_science.utils.common import read_yaml, create_dir\n",
    "class ConfigurationManager:\n",
    "    def __init__(self, config_filepath=CONFIG_FILE_PATH, schema_file_path= SCHEMA_FILE_PATH, params_file_path=PARAMS_FILE_PATH ):\n",
    "        \n",
    "        self.config = read_yaml(config_filepath)\n",
    "        self.params = read_yaml(params_file_path)\n",
    "        self.schema = read_yaml(schema_file_path)\n",
    "        \n",
    "        create_dir([self.config.artifacts_toot])\n",
    "        \n",
    "    def get_dataingestion_config(self)-> DataIngestionConfig:\n",
    "        config = self.config.data_ingestion\n",
    "        create_dir([config.root_dir])\n",
    "        data_ingestion_config = DataIngestionConfig(\n",
    "              root_dir= config.root_dir,\n",
    "              source_URL=config.source_URL,\n",
    "              local_data_file=config.local_data_file ,\n",
    "              unzip_dir=config.unzip_dir\n",
    "        )\n",
    "        return data_ingestion_config\n",
    "    def get_datavalidation_config(self)-> DataValidationConfig:\n",
    "        config = self.config.data_validation\n",
    "        schema = self.schema.COLUMNS\n",
    "        create_dir([config.root_dir])\n",
    "        data_validation_config = DataValidationConfig(\n",
    "              root_dir= config.root_dir,\n",
    "              STATUS_FILE=config.STATUS_FILE,\n",
    "              unzip_data_dir=config.unzip_data_dir ,\n",
    "              all_schema=schema\n",
    "        )\n",
    "        return data_validation_config\n",
    "    \n",
    "    def get_datatransformation_config(self)-> DataTransformationConfig:\n",
    "        config = self.config.data_transformation\n",
    "        create_dir([config.root_dir])\n",
    "        data_transformation_config = DataTransformationConfig(\n",
    "            root_dir= config.root_dir,\n",
    "            data_path=config.data_path,\n",
    "        )\n",
    "        return data_transformation_config\n",
    "    \n",
    "    def get_modeltrainer_config(self)-> ModelTrainerConfig:\n",
    "        config = self.config.model_trainer\n",
    "        params = self.params.ElasticNet\n",
    "        schema = self.schema.TARGET_COLUMN\n",
    "        create_dir([config.root_dir])\n",
    "        model_trainer_config = ModelTrainerConfig(\n",
    "            root_dir= config.root_dir,\n",
    "            train_data_path = config.train_data_path,\n",
    "            test_data_path = config.test_data_path,\n",
    "            model_name = config.model_name,\n",
    "            alpha= params.alpha,\n",
    "            l1_ratio = params.l1_ratio,\n",
    "            target_column = schema.name \n",
    "        )\n",
    "        return model_trainer_config\n",
    "        \n",
    "    "
   ]
  },
  {
   "cell_type": "code",
   "execution_count": null,
   "id": "20f5439d",
   "metadata": {},
   "outputs": [],
   "source": [
    "from src.data_science import logger\n",
    "import pandas as pd\n",
    "from sklearn.linear_model import ElasticNet\n",
    "import joblib\n",
    "class ModelTrainer:\n",
    "    def __init__(self, config: ModelTrainerConfig):\n",
    "        self.config = config\n",
    "    \n",
    "    def model_training(self):\n",
    "        train_data = pd.read_csv(self.config.train_data_path, sep=\",\")\n",
    "        test_data = pd.read_csv(self.config.test_data_path, sep=\",\")\n",
    "        train_x = train_data.drop(columns=[self.config.target_column], axis=1)\n",
    "        train_y = train_data[self.config.target_column]\n",
    "        test_x = test_data.drop(columns=[self.config.target_column], axis=1)\n",
    "        test_y = test_data[self.config.target_column]\n",
    "        logger.info(f\"Training Starting\")\n",
    "        model = ElasticNet(alpha=self.config.alpha, l1_ratio=self.config.l1_ratio, random_state=42)\n",
    "        model.fit(train_x, train_y)\n",
    "        joblib.dump(model, os.path.join(self.config.root_dir, self.config.model_name))\n",
    "        logger.info(f\"Model saved to {os.path.join(self.config.root_dir, self.config.model_name)}\")\n",
    "        \n",
    "        "
   ]
  },
  {
   "cell_type": "code",
   "execution_count": 21,
   "id": "ead6eed0",
   "metadata": {},
   "outputs": [
    {
     "name": "stderr",
     "output_type": "stream",
     "text": [
      "2025-05-03 19:16:20,304, common.py, 19, INFO, config/config.yaml file loaded sucessfully\n",
      "2025-05-03 19:16:20,307, common.py, 19, INFO, params.yaml file loaded sucessfully\n",
      "2025-05-03 19:16:20,309, common.py, 19, INFO, schema.yaml file loaded sucessfully\n",
      "2025-05-03 19:16:20,311, common.py, 32, INFO, Directory artifacts created\n",
      "2025-05-03 19:16:20,312, common.py, 32, INFO, Directory artifacts/model_trainer created\n"
     ]
    }
   ],
   "source": [
    "try:\n",
    "    config = ConfigurationManager()\n",
    "    model_trainer_config = config.get_modeltrainer_config()\n",
    "    data_transofrmation = ModelTrainer(model_trainer_config)\n",
    "    data_transofrmation.model_training()\n",
    "except Exception as e:\n",
    "    raise e \n"
   ]
  },
  {
   "cell_type": "code",
   "execution_count": null,
   "id": "77713f54",
   "metadata": {},
   "outputs": [
    {
     "name": "stdout",
     "output_type": "stream",
     "text": [
      "[2025-05-03 08:28:09,747: INFO: common: Directory artifacts/data_validation created]\n"
     ]
    }
   ],
   "source": [
    "\n",
    "data_validation_status = config.get_datavalidation_config()\n"
   ]
  },
  {
   "cell_type": "code",
   "execution_count": null,
   "id": "add3ed0c",
   "metadata": {},
   "outputs": [
    {
     "data": {
      "text/plain": [
       "'artifacts/data_validation/status.txt'"
      ]
     },
     "execution_count": 22,
     "metadata": {},
     "output_type": "execute_result"
    }
   ],
   "source": [
    "data_validation_status.STATUS_FILE"
   ]
  },
  {
   "cell_type": "code",
   "execution_count": null,
   "id": "5e9e24de",
   "metadata": {},
   "outputs": [
    {
     "name": "stdout",
     "output_type": "stream",
     "text": [
      "['Validation', 'Sucessful.', 'Validation', 'Status:True']\n",
      "found\n"
     ]
    }
   ],
   "source": [
    "with open(Path(data_validation_status.STATUS_FILE), \"r\") as f:\n",
    "            content = f.read().split()\n",
    "            print(content)\n",
    "            if 'True' in content[-1]:\n",
    "                print(\"found\")"
   ]
  }
 ],
 "metadata": {
  "kernelspec": {
   "display_name": "Python 3",
   "language": "python",
   "name": "python3"
  },
  "language_info": {
   "codemirror_mode": {
    "name": "ipython",
    "version": 3
   },
   "file_extension": ".py",
   "mimetype": "text/x-python",
   "name": "python",
   "nbconvert_exporter": "python",
   "pygments_lexer": "ipython3",
   "version": "3.10.16"
  }
 },
 "nbformat": 4,
 "nbformat_minor": 5
}
